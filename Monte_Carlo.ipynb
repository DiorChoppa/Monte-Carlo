{
  "nbformat": 4,
  "nbformat_minor": 0,
  "metadata": {
    "kernelspec": {
      "display_name": "Python 3",
      "language": "python",
      "name": "python3"
    },
    "language_info": {
      "codemirror_mode": {
        "name": "ipython",
        "version": 3
      },
      "file_extension": ".py",
      "mimetype": "text/x-python",
      "name": "python",
      "nbconvert_exporter": "python",
      "pygments_lexer": "ipython3",
      "version": "3.8.3"
    },
    "colab": {
      "name": "Моделирование Монте-Карло с помощью Python.ipynb",
      "provenance": []
    }
  },
  "cells": [
    {
      "cell_type": "markdown",
      "metadata": {
        "id": "CBHaTwrWaNRJ"
      },
      "source": [
        "# Моделирование Монте-Карло с помощью Python"
      ]
    },
    {
      "cell_type": "markdown",
      "metadata": {
        "id": "PdFFRaJ3aNS8"
      },
      "source": [
        "## Проблема\n",
        "\n",
        "В следующем примере попытаемся предсказать, сколько денег необходимо выделить на комиссионные с продаж (поощрительные выплаты) в следующем году. Эта задача хорошо подходит для моделирования, т.к. у нас есть определенная формула для расчета комиссионных, и некоторый опыт с выплатой комиссионных за предыдущие годы.\n",
        "\n",
        "Эта проблема также важна с точки зрения бизнеса. Комиссионные с продаж могут оказаться большими расходами, и важно их правильно спланировать. Кроме того, использование моделирования Монте-Карло является относительно простым.\n",
        "\n",
        "Примерная комиссия с продаж будет выглядеть следующим образом для отдела продаж из `5` человек:\n",
        "\n",
        "![](https://github.com/dm-fedorov/pandas_basic/blob/master/pic/Excel_Table_1.png?raw=True)\n",
        "\n",
        "В этом примере комиссия рассчитывается по следующей формуле:\n",
        "\n",
        "`Commission Amount (Сумма комиссии) = Actual Sales (Фактические продажи) * Commission Rate (Ставка комиссионного вознаграждения)`\n",
        "\n",
        "Ставка комиссии основана на этой таблице `Percent To Plan (Процент к плану)`:\n",
        "\n",
        "![](https://github.com/dm-fedorov/pandas_basic/blob/master/pic/Excel_Table_4.png?raw=True)\n",
        "\n",
        "Прежде чем строить модель и запускать симуляцию, давайте рассмотрим простой подход к прогнозированию комиссионных расходов на следующий год."
      ]
    },
    {
      "cell_type": "markdown",
      "metadata": {
        "id": "PpGN65fJaNS9"
      },
      "source": [
        "## Наивный (Naïve) подход к проблеме\n",
        "\n",
        "Представьте, что ваша задача в роли аналитика Эми или Энди состоит в том, чтобы сообщить финансовому отделу, сколько в бюджете необходимо выделить комиссионных с продаж на следующий год. Один из подходов заключается в том, чтобы предположить, что каждый выполняет `100%` своей цели и получает `4%` комиссионных. \n",
        "\n",
        "Вставка этих значений в *Excel* дает следующее:\n",
        "\n",
        "![](https://github.com/dm-fedorov/pandas_basic/blob/master/pic/Excel_Table_2.png?raw=True)\n",
        "\n",
        "Представьте, что вы представляете это финансовому отделу, и они говорят: \"У нас никогда не бывает одинаковых комиссионных. Нам нужна более точная модель\". \n",
        "\n",
        "Во втором раунде вы можете попробовать несколько диапазонов:\n",
        "\n",
        "![](https://github.com/dm-fedorov/pandas_basic/blob/master/pic/Excel_Table_5.png?raw=True)\n",
        "\n",
        "Или еще один:\n",
        "\n",
        "![](https://github.com/dm-fedorov/pandas_basic/blob/master/pic/Excel_Table_6.png?raw=True)\n",
        "\n",
        "Теперь у вас есть немного больше информации. На этот раз финансовый отдел говорит: \"Этот диапазон полезен, но каково ваше доверие к нему? Кроме того, нам нужно, чтобы вы провели расчет для отдела продаж из 500 человек и смоделировали несколько различных ставок, чтобы определить сумму бюджета\". Хммм… \n",
        "\n",
        "Этот простой подход иллюстрирует основной итерационный метод моделирования Монте-Карло. Вы повторяете процесс много раз, чтобы определить диапазон возможных значений комиссионных за год. Сделать это вручную сложно. К счастью, с Python процесс значительно упрощается."
      ]
    },
    {
      "cell_type": "markdown",
      "metadata": {
        "id": "lgLj6paMaNTA"
      },
      "source": [
        "## Монте-Карло\n",
        "\n",
        "Теперь, когда мы обсудили проблему на высоком уровне, посмотрим, как метод Монте-Карло может быть применим для прогнозирования комиссионных расходов на следующий год. На простейшем уровне анализ (или моделирование) Монте-Карло выполняет множество сценариев с различными случайными входными данными и обобщение распределения результатов.\n",
        "\n",
        "Используя анализ комиссионных, мы можем продолжить ручной процесс, который мы начали выше, но запустить программу `100` или даже `1000` раз, и получим распределение потенциальных сумм комиссии. Это распределение может информировать о вероятности того, что расходы будут в пределах определенного окна. В конце концов, это прогноз, поэтому мы, скорее всего, никогда его точно не предскажем. Мы можем разработать более информативное представление о потенциальном риске недостаточного или завышенного бюджета.\n",
        "\n",
        "Запуск моделирования Монте-Карло состоит из двух компонентов:\n",
        "\n",
        "- уравнение для оценки;\n",
        "- случайные величины для входа.\n",
        "\n",
        "Уравнение мы рассмотрели выше. Теперь нужно подумать о том, как заполнить случайные величины.\n",
        "\n",
        "Один из простых подходов - взять случайное число от `0%` до `200%` (представляющее нашу интуицию о ставках комиссионных). Однако, поскольку мы выплачиваем комиссионные каждый год, мы понимаем нашу проблему немного подробнее и можем использовать эти предварительные знания для построения более точной модели.\n",
        "\n",
        "Поскольку мы выплачивали комиссионные в течение нескольких лет, мы можем взглянуть на типичное историческое распределение целевого процента:\n",
        "\n",
        "![](https://github.com/dm-fedorov/pandas_basic/blob/master/pic/monte_carlo_image_hist_pct.png?raw=True)\n",
        "\n",
        "Это распределение выглядит как нормальное распределение со средним значением `100%` и стандартным отклонением `10%`. Это понимание полезно, потому что мы можем моделировать наше распределение входных переменных так, чтобы оно было похоже на реальный опыт.\n",
        "\n",
        "Если вас интересуют дополнительные детали для оценки типа распределения, я рекомендую [эту статью](https://www.mikulskibartosz.name/monte-carlo-simulation-in-python/)."
      ]
    },
    {
      "cell_type": "markdown",
      "metadata": {
        "id": "S66Yb_5gaNTC"
      },
      "source": [
        "## Построение модели Python\n",
        "\n",
        "Можем использовать *pandas* для построения модели, которая воспроизводит расчет таблицы *Excel*. Существуют и другие подходы к построению моделей Монте-Карло, но я считаю, что с помощью *pandas* легче понять, если вы ранее работали с *Excel*. \n",
        "\n",
        "Выполним импорт и установим стиль для графиков:"
      ]
    },
    {
      "cell_type": "code",
      "metadata": {
        "id": "B05MWsSNaNTU"
      },
      "source": [
        "import pandas as pd\n",
        "import numpy as np\n",
        "import seaborn as sns\n",
        "\n",
        "sns.set_style('whitegrid')"
      ],
      "execution_count": 1,
      "outputs": []
    },
    {
      "cell_type": "markdown",
      "metadata": {
        "id": "DyYawKOJaNTc"
      },
      "source": [
        "Для этой модели мы будем использовать генерацию случайных чисел из *NumPy*. Преимущество *NumPy* заключается в том, что существует [несколько генераторов случайных чисел](https://numpy.org/doc/stable/reference/random/index.html), которые могут создавать случайные выборки на основе заранее заданного распределения.\n",
        "\n",
        "Как сказано выше, мы знаем, что исторический процент к целевой производительности сосредоточен вокруг среднего значения `100%` и стандартного отклонения `10%`. Давайте определим эти переменные, а также количество торговых представителей и число симуляций, которое мы моделируем:"
      ]
    },
    {
      "cell_type": "code",
      "metadata": {
        "id": "CEKvhzZOaNTd"
      },
      "source": [
        "avg = 1\n",
        "std_dev = .1\n",
        "num_reps = 500\n",
        "num_simulations = 1000"
      ],
      "execution_count": 2,
      "outputs": []
    },
    {
      "cell_type": "markdown",
      "metadata": {
        "id": "BlJtbYgsaNTw"
      },
      "source": [
        "Теперь мы можем использовать *NumPy* для создания списка процентов, который будет воспроизводить историческое нормальное распределение:"
      ]
    },
    {
      "cell_type": "code",
      "metadata": {
        "id": "SBifhzPeaNTx"
      },
      "source": [
        "pct_to_target = np.random.normal(avg, std_dev, num_reps).round(2)"
      ],
      "execution_count": 3,
      "outputs": []
    },
    {
      "cell_type": "markdown",
      "metadata": {
        "id": "pZLgI9m5aNTx"
      },
      "source": [
        "В этом примере я решил округлить результат до двух знаков после запятой, чтобы было легче увидеть границы. \n",
        "\n",
        "Вот как выглядят первые `10` пунктов:"
      ]
    },
    {
      "cell_type": "code",
      "metadata": {
        "id": "nL_KNzBBaNTy",
        "outputId": "46029a8a-84ae-4d74-a712-5b1bab0aca86",
        "colab": {
          "base_uri": "https://localhost:8080/"
        }
      },
      "source": [
        "pct_to_target[:10]"
      ],
      "execution_count": 4,
      "outputs": [
        {
          "output_type": "execute_result",
          "data": {
            "text/plain": [
              "array([0.99, 0.93, 0.99, 0.89, 0.97, 0.93, 1.03, 1.12, 1.06, 0.98])"
            ]
          },
          "metadata": {},
          "execution_count": 4
        }
      ]
    },
    {
      "cell_type": "markdown",
      "metadata": {
        "id": "UIcebzIJaNT0"
      },
      "source": [
        "Это хорошая проверка, чтобы убедиться, что диапазоны соответствуют ожиданиям.\n",
        "\n",
        "Поскольку мы пытаемся улучшить наш простой подход, то будем придерживаться нормального распределения целевого процента. Однако, используя *NumPy*, можно настроить и использовать другое распределение для будущих моделей, если это необходимо. Предупреждаю, что не надо использовать другие модели, не понимая их и, как они применимы к вашей ситуации.\n",
        "\n",
        "Есть еще одно значение, которое нужно смоделировать, и это фактическая цель продаж. Чтобы проиллюстрировать другое распределение, предположим, что наше целевое распределение продаж выглядит примерно так:\n",
        "\n",
        "![](https://github.com/dm-fedorov/pandas_basic/blob/master/pic/monte_carlo_sales_target.png?raw=True)\n",
        "\n",
        "Это определенно ненормальное распределение. Это распределение показывает нам, что цели продаж устанавливаются в `1` из `5` сегментов, и частота уменьшается с увеличением суммы. Такое распределение может свидетельствовать об очень простом процессе установления целевых показателей, при котором отдельные лица делятся на определенные группы и получают целевые показатели последовательно в зависимости от их срока пребывания (tenure), размера территории или воронки продаж.\n",
        "\n",
        "Для этого примера будем использовать равномерное распределение, но назначим более низкие уровни вероятности для некоторых значений.\n",
        "\n",
        "Вот как мы можем это построить, используя [`numpy.random.choice`](https://numpy.org/doc/stable/reference/random/generated/numpy.random.choice.html):"
      ]
    },
    {
      "cell_type": "code",
      "metadata": {
        "id": "9Qm8i3IbaNT2"
      },
      "source": [
        "sales_target_values = [75_000, 100_000, 200_000, 300_000, 400_000, 500_000]\n",
        "sales_target_prob = [.3, .3, .2, .1, .05, .05]\n",
        "sales_target = np.random.choice(sales_target_values, num_reps, p=sales_target_prob)"
      ],
      "execution_count": 5,
      "outputs": []
    },
    {
      "cell_type": "markdown",
      "metadata": {
        "id": "1R-Y9okQaNT5"
      },
      "source": [
        "По общему признанию, это несколько надуманный пример, но я хотел показать, как различные распределения могут быть включены в модель. \n",
        "\n",
        "Теперь, когда мы знаем, как создать два входных распределения, давайте создадим фрейм данных (*dataframe*) *pandas*:"
      ]
    },
    {
      "cell_type": "code",
      "metadata": {
        "id": "3LJkuyAvaNT6"
      },
      "source": [
        "df = pd.DataFrame(index=range(num_reps), \n",
        "                  data={'Pct_To_Target': pct_to_target,\n",
        "                        'Sales_Target': sales_target})"
      ],
      "execution_count": 8,
      "outputs": []
    },
    {
      "cell_type": "code",
      "metadata": {
        "id": "UQylZKw1aNT6",
        "outputId": "a6b388b9-b81d-46b6-82c9-8bd47352a240",
        "colab": {
          "base_uri": "https://localhost:8080/",
          "height": 281
        }
      },
      "source": [
        "# Простая гистограмма для подтверждения распределения\n",
        "df['Pct_To_Target'].plot(kind='hist', title='Historical % to Target Distribution');"
      ],
      "execution_count": 9,
      "outputs": [
        {
          "output_type": "display_data",
          "data": {
            "image/png": "[encoded data removed]",
            "text/plain": [
              "<Figure size 432x288 with 1 Axes>"
            ]
          },
          "metadata": {
            "needs_background": "light"
          }
        }
      ]
    },
    {
      "cell_type": "code",
      "metadata": {
        "id": "zaYzLGkfaNUH",
        "outputId": "730f5167-58f5-485c-f778-102af10426c3",
        "colab": {
          "base_uri": "https://localhost:8080/",
          "height": 281
        }
      },
      "source": [
        "# Посмотрите на целевое распределение продаж\n",
        "df['Sales_Target'].plot(kind='hist', \n",
        "                        title='Historical Sales Target Distribution');"
      ],
      "execution_count": 10,
      "outputs": [
        {
          "output_type": "display_data",
          "data": {
            "image/png": "[encoded data removed]",
            "text/plain": [
              "<Figure size 432x288 with 1 Axes>"
            ]
          },
          "metadata": {
            "needs_background": "light"
          }
        }
      ]
    },
    {
      "cell_type": "code",
      "metadata": {
        "id": "FhF8aWbjaNUJ"
      },
      "source": [
        "# Фактическая сумма продаж\n",
        "df['Sales'] = df['Pct_To_Target'] * df['Sales_Target']"
      ],
      "execution_count": 11,
      "outputs": []
    },
    {
      "cell_type": "markdown",
      "metadata": {
        "id": "9IW-p6rKaNUK"
      },
      "source": [
        "Вот как выглядит новый фрейм данных:"
      ]
    },
    {
      "cell_type": "code",
      "metadata": {
        "id": "fM97AHEFaNUL",
        "outputId": "15fd2503-1f4e-4bc2-c0e8-cca59f4e4013",
        "colab": {
          "base_uri": "https://localhost:8080/",
          "height": 204
        }
      },
      "source": [
        "df.head()"
      ],
      "execution_count": 12,
      "outputs": [
        {
          "output_type": "execute_result",
          "data": {
            "text/html": [
              "<div>\n",
              "<style scoped>\n",
              "    .dataframe tbody tr th:only-of-type {\n",
              "        vertical-align: middle;\n",
              "    }\n",
              "\n",
              "    .dataframe tbody tr th {\n",
              "        vertical-align: top;\n",
              "    }\n",
              "\n",
              "    .dataframe thead th {\n",
              "        text-align: right;\n",
              "    }\n",
              "</style>\n",
              "<table border=\"1\" class=\"dataframe\">\n",
              "  <thead>\n",
              "    <tr style=\"text-align: right;\">\n",
              "      <th></th>\n",
              "      <th>Pct_To_Target</th>\n",
              "      <th>Sales_Target</th>\n",
              "      <th>Sales</th>\n",
              "    </tr>\n",
              "  </thead>\n",
              "  <tbody>\n",
              "    <tr>\n",
              "      <th>0</th>\n",
              "      <td>0.99</td>\n",
              "      <td>200000</td>\n",
              "      <td>198000.0</td>\n",
              "    </tr>\n",
              "    <tr>\n",
              "      <th>1</th>\n",
              "      <td>0.93</td>\n",
              "      <td>100000</td>\n",
              "      <td>93000.0</td>\n",
              "    </tr>\n",
              "    <tr>\n",
              "      <th>2</th>\n",
              "      <td>0.99</td>\n",
              "      <td>200000</td>\n",
              "      <td>198000.0</td>\n",
              "    </tr>\n",
              "    <tr>\n",
              "      <th>3</th>\n",
              "      <td>0.89</td>\n",
              "      <td>100000</td>\n",
              "      <td>89000.0</td>\n",
              "    </tr>\n",
              "    <tr>\n",
              "      <th>4</th>\n",
              "      <td>0.97</td>\n",
              "      <td>400000</td>\n",
              "      <td>388000.0</td>\n",
              "    </tr>\n",
              "  </tbody>\n",
              "</table>\n",
              "</div>"
            ],
            "text/plain": [
              "   Pct_To_Target  Sales_Target     Sales\n",
              "0           0.99        200000  198000.0\n",
              "1           0.93        100000   93000.0\n",
              "2           0.99        200000  198000.0\n",
              "3           0.89        100000   89000.0\n",
              "4           0.97        400000  388000.0"
            ]
          },
          "metadata": {},
          "execution_count": 12
        }
      ]
    },
    {
      "cell_type": "markdown",
      "metadata": {
        "id": "7ohKJ96TaNUO"
      },
      "source": [
        "Вы могли заметить, что я проделал небольшой трюк, чтобы вычислить фактическую сумму продаж (*actual sales amount*). Для этой задачи фактическая сумма продаж может сильно меняться с годами, но распределение производительности остается удивительно стабильным. Поэтому я использую случайные распределения для генерации исходных данных и поддержки фактических продаж.\n",
        "\n",
        "Последний фрагмент кода, который нужно создать, - это способ сопоставления `Pct_To_Target` со ставкой комиссии. \n",
        "\n",
        "Вот функция:"
      ]
    },
    {
      "cell_type": "code",
      "metadata": {
        "id": "pWVawypWaNUO"
      },
      "source": [
        "def calc_commission_rate(x):\n",
        "    \"\"\" Вернуть комиссию по таблице:\n",
        "    0-90% = 2%\n",
        "    91-99% = 3%\n",
        "    >= 100 = 4%\n",
        "    \"\"\"\n",
        "    if x <= .90:\n",
        "        return .02\n",
        "    if x <= .99:\n",
        "        return .03\n",
        "    else:\n",
        "        return .04"
      ],
      "execution_count": 13,
      "outputs": []
    },
    {
      "cell_type": "markdown",
      "metadata": {
        "id": "wkRRcKMBaNUO"
      },
      "source": [
        "Теперь мы создаем ставку комиссии и умножаем ее на продажи:"
      ]
    },
    {
      "cell_type": "code",
      "metadata": {
        "id": "8WCiFMb3aNUP"
      },
      "source": [
        "df['Commission_Rate'] = df['Pct_To_Target'].apply(calc_commission_rate)"
      ],
      "execution_count": 14,
      "outputs": []
    },
    {
      "cell_type": "code",
      "metadata": {
        "id": "14WFqIwlaNUP"
      },
      "source": [
        "# Рассчитайте комиссии\n",
        "df['Commission_Amount'] = df['Commission_Rate'] * df['Sales']"
      ],
      "execution_count": 15,
      "outputs": []
    },
    {
      "cell_type": "markdown",
      "metadata": {
        "id": "DPw-bPcJaNUP"
      },
      "source": [
        "Результат похож на модель, построенную в *Excel*:"
      ]
    },
    {
      "cell_type": "code",
      "metadata": {
        "id": "D4UJf5vDaNUP",
        "outputId": "4a7677d6-fe80-4804-aea8-0cc0ca7aa249",
        "colab": {
          "base_uri": "https://localhost:8080/",
          "height": 204
        }
      },
      "source": [
        "df.head()"
      ],
      "execution_count": 16,
      "outputs": [
        {
          "output_type": "execute_result",
          "data": {
            "text/html": [
              "<div>\n",
              "<style scoped>\n",
              "    .dataframe tbody tr th:only-of-type {\n",
              "        vertical-align: middle;\n",
              "    }\n",
              "\n",
              "    .dataframe tbody tr th {\n",
              "        vertical-align: top;\n",
              "    }\n",
              "\n",
              "    .dataframe thead th {\n",
              "        text-align: right;\n",
              "    }\n",
              "</style>\n",
              "<table border=\"1\" class=\"dataframe\">\n",
              "  <thead>\n",
              "    <tr style=\"text-align: right;\">\n",
              "      <th></th>\n",
              "      <th>Pct_To_Target</th>\n",
              "      <th>Sales_Target</th>\n",
              "      <th>Sales</th>\n",
              "      <th>Commission_Rate</th>\n",
              "      <th>Commission_Amount</th>\n",
              "    </tr>\n",
              "  </thead>\n",
              "  <tbody>\n",
              "    <tr>\n",
              "      <th>0</th>\n",
              "      <td>0.99</td>\n",
              "      <td>200000</td>\n",
              "      <td>198000.0</td>\n",
              "      <td>0.03</td>\n",
              "      <td>5940.0</td>\n",
              "    </tr>\n",
              "    <tr>\n",
              "      <th>1</th>\n",
              "      <td>0.93</td>\n",
              "      <td>100000</td>\n",
              "      <td>93000.0</td>\n",
              "      <td>0.03</td>\n",
              "      <td>2790.0</td>\n",
              "    </tr>\n",
              "    <tr>\n",
              "      <th>2</th>\n",
              "      <td>0.99</td>\n",
              "      <td>200000</td>\n",
              "      <td>198000.0</td>\n",
              "      <td>0.03</td>\n",
              "      <td>5940.0</td>\n",
              "    </tr>\n",
              "    <tr>\n",
              "      <th>3</th>\n",
              "      <td>0.89</td>\n",
              "      <td>100000</td>\n",
              "      <td>89000.0</td>\n",
              "      <td>0.02</td>\n",
              "      <td>1780.0</td>\n",
              "    </tr>\n",
              "    <tr>\n",
              "      <th>4</th>\n",
              "      <td>0.97</td>\n",
              "      <td>400000</td>\n",
              "      <td>388000.0</td>\n",
              "      <td>0.03</td>\n",
              "      <td>11640.0</td>\n",
              "    </tr>\n",
              "  </tbody>\n",
              "</table>\n",
              "</div>"
            ],
            "text/plain": [
              "   Pct_To_Target  Sales_Target     Sales  Commission_Rate  Commission_Amount\n",
              "0           0.99        200000  198000.0             0.03             5940.0\n",
              "1           0.93        100000   93000.0             0.03             2790.0\n",
              "2           0.99        200000  198000.0             0.03             5940.0\n",
              "3           0.89        100000   89000.0             0.02             1780.0\n",
              "4           0.97        400000  388000.0             0.03            11640.0"
            ]
          },
          "metadata": {},
          "execution_count": 16
        }
      ]
    },
    {
      "cell_type": "markdown",
      "metadata": {
        "id": "lUYPYAb9aNUQ"
      },
      "source": [
        "Просуммируем значения в каждом из столбцов (нужный нам результат в столбце `Commission_Amount`):"
      ]
    },
    {
      "cell_type": "code",
      "metadata": {
        "id": "SwkKcluLaNUQ",
        "outputId": "93618ffa-5801-4158-8c67-dff87a571042",
        "colab": {
          "base_uri": "https://localhost:8080/"
        }
      },
      "source": [
        "df['Sales'].sum(), df['Commission_Amount'].sum(), df['Sales_Target'].sum()"
      ],
      "execution_count": 17,
      "outputs": [
        {
          "output_type": "execute_result",
          "data": {
            "text/plain": [
              "(87081500.0, 2973965.0, 86675000)"
            ]
          },
          "metadata": {},
          "execution_count": 17
        }
      ]
    },
    {
      "cell_type": "markdown",
      "metadata": {
        "id": "Es3PatlLaNUQ"
      },
      "source": [
        "## Запустим цикл\n",
        "\n",
        "Настоящая \"магия\" моделирования Монте-Карло заключается в том, что, если мы запускаем моделирование много раз, то начинаем формировать картину вероятного распределения результатов. В *Excel* понадобится *VBA* для выполнения нескольких итераций. В *Python* мы можем использовать `цикл for` для запуска любого количества симуляций.\n",
        "\n",
        "Помимо запуска каждой симуляции, сохраняем результаты, которые нам интересны, в списке, который превратим во фрейм данных для дальнейшего анализа распределения результатов.\n",
        "\n",
        "Вот полный код цикла:"
      ]
    },
    {
      "cell_type": "code",
      "metadata": {
        "id": "DQSCsMKmaNUR"
      },
      "source": [
        "# Определите список, чтобы сохранить результаты каждой симуляции, которую хотим проанализировать\n",
        "all_stats = []\n",
        "\n",
        "# Пройдите через множество симуляций\n",
        "for i in range(num_simulations):\n",
        "\n",
        "    # Выберите случайные входные данные для целей продаж и процент для целей\n",
        "    sales_target = np.random.choice(sales_target_values, num_reps, p=sales_target_prob)\n",
        "    pct_to_target = np.random.normal(avg, std_dev, num_reps).round(2)\n",
        "\n",
        "    # Создайте фрейм данных на основе входных значений и количества повторений\n",
        "    df = pd.DataFrame(index=range(num_reps), data={'Pct_To_Target': pct_to_target,\n",
        "                                                   'Sales_Target': sales_target})\n",
        "\n",
        "    # Вернитесь к количеству продаж, используя процент для целевой ставки\n",
        "    df['Sales'] = df['Pct_To_Target'] * df['Sales_Target']\n",
        "\n",
        "    # Определите ставку комиссии и рассчитайте ее\n",
        "    df['Commission_Rate'] = df['Pct_To_Target'].apply(calc_commission_rate)\n",
        "    df['Commission_Amount'] = df['Commission_Rate'] * df['Sales']\n",
        "\n",
        "    # Мы хотим отслеживать продажи, суммы комиссионных и целевые показатели продаж по всем симуляциям\n",
        "    all_stats.append([df['Sales'].sum().round(0),\n",
        "                      df['Commission_Amount'].sum().round(0),\n",
        "                      df['Sales_Target'].sum().round(0)])"
      ],
      "execution_count": 18,
      "outputs": []
    },
    {
      "cell_type": "markdown",
      "metadata": {
        "id": "DSROPorfaNUR"
      },
      "source": [
        "Результаты `1 миллиона` симуляций не всегда более полезны, чем `10 000`. Попробуйте разное количества и посмотрите, как изменится результат.\n",
        "\n",
        "Чтобы проанализировать результаты моделирования, я построю фрейм данных из `all_stats`:"
      ]
    },
    {
      "cell_type": "code",
      "metadata": {
        "id": "cuyIW82daNUR"
      },
      "source": [
        "results_df = pd.DataFrame.from_records(all_stats, columns=['Sales',\n",
        "                                                           'Commission_Amount',\n",
        "                                                           'Sales_Target'])"
      ],
      "execution_count": 19,
      "outputs": []
    },
    {
      "cell_type": "markdown",
      "metadata": {
        "id": "ULKn5NZSaNUS"
      },
      "source": [
        "Теперь легко увидеть, как выглядит диапазон результатов:"
      ]
    },
    {
      "cell_type": "code",
      "metadata": {
        "id": "EiBpNQXxaNUS",
        "outputId": "b1ecd542-596f-4f0f-a5a8-d99ce2fc0e15",
        "colab": {
          "base_uri": "https://localhost:8080/",
          "height": 208
        }
      },
      "source": [
        "results_df.describe().style.format('{:,}')"
      ],
      "execution_count": 20,
      "outputs": [
        {
          "output_type": "execute_result",
          "data": {
            "text/html": [
              "<style  type=\"text/css\" >\n",
              "</style><table id=\"T_d142a1ac_3543_11ec_a31f_0242ac1c0002\" ><thead>    <tr>        <th class=\"blank level0\" ></th>        <th class=\"col_heading level0 col0\" >Sales</th>        <th class=\"col_heading level0 col1\" >Commission_Amount</th>        <th class=\"col_heading level0 col2\" >Sales_Target</th>    </tr></thead><tbody>\n",
              "                <tr>\n",
              "                        <th id=\"T_d142a1ac_3543_11ec_a31f_0242ac1c0002level0_row0\" class=\"row_heading level0 row0\" >count</th>\n",
              "                        <td id=\"T_d142a1ac_3543_11ec_a31f_0242ac1c0002row0_col0\" class=\"data row0 col0\" >1,000.0</td>\n",
              "                        <td id=\"T_d142a1ac_3543_11ec_a31f_0242ac1c0002row0_col1\" class=\"data row0 col1\" >1,000.0</td>\n",
              "                        <td id=\"T_d142a1ac_3543_11ec_a31f_0242ac1c0002row0_col2\" class=\"data row0 col2\" >1,000.0</td>\n",
              "            </tr>\n",
              "            <tr>\n",
              "                        <th id=\"T_d142a1ac_3543_11ec_a31f_0242ac1c0002level0_row1\" class=\"row_heading level0 row1\" >mean</th>\n",
              "                        <td id=\"T_d142a1ac_3543_11ec_a31f_0242ac1c0002row1_col0\" class=\"data row1 col0\" >83,680,455.75</td>\n",
              "                        <td id=\"T_d142a1ac_3543_11ec_a31f_0242ac1c0002row1_col1\" class=\"data row1 col1\" >2,855,846.689</td>\n",
              "                        <td id=\"T_d142a1ac_3543_11ec_a31f_0242ac1c0002row1_col2\" class=\"data row1 col2\" >83,699,400.0</td>\n",
              "            </tr>\n",
              "            <tr>\n",
              "                        <th id=\"T_d142a1ac_3543_11ec_a31f_0242ac1c0002level0_row2\" class=\"row_heading level0 row2\" >std</th>\n",
              "                        <td id=\"T_d142a1ac_3543_11ec_a31f_0242ac1c0002row2_col0\" class=\"data row2 col0\" >2,841,548.2331540175</td>\n",
              "                        <td id=\"T_d142a1ac_3543_11ec_a31f_0242ac1c0002row2_col1\" class=\"data row2 col1\" >107,800.460560423</td>\n",
              "                        <td id=\"T_d142a1ac_3543_11ec_a31f_0242ac1c0002row2_col2\" class=\"data row2 col2\" >2,783,943.018225899</td>\n",
              "            </tr>\n",
              "            <tr>\n",
              "                        <th id=\"T_d142a1ac_3543_11ec_a31f_0242ac1c0002level0_row3\" class=\"row_heading level0 row3\" >min</th>\n",
              "                        <td id=\"T_d142a1ac_3543_11ec_a31f_0242ac1c0002row3_col0\" class=\"data row3 col0\" >73,492,750.0</td>\n",
              "                        <td id=\"T_d142a1ac_3543_11ec_a31f_0242ac1c0002row3_col1\" class=\"data row3 col1\" >2,489,670.0</td>\n",
              "                        <td id=\"T_d142a1ac_3543_11ec_a31f_0242ac1c0002row3_col2\" class=\"data row3 col2\" >74,275,000.0</td>\n",
              "            </tr>\n",
              "            <tr>\n",
              "                        <th id=\"T_d142a1ac_3543_11ec_a31f_0242ac1c0002level0_row4\" class=\"row_heading level0 row4\" >25%</th>\n",
              "                        <td id=\"T_d142a1ac_3543_11ec_a31f_0242ac1c0002row4_col0\" class=\"data row4 col0\" >81,609,437.5</td>\n",
              "                        <td id=\"T_d142a1ac_3543_11ec_a31f_0242ac1c0002row4_col1\" class=\"data row4 col1\" >2,780,935.0</td>\n",
              "                        <td id=\"T_d142a1ac_3543_11ec_a31f_0242ac1c0002row4_col2\" class=\"data row4 col2\" >81,668,750.0</td>\n",
              "            </tr>\n",
              "            <tr>\n",
              "                        <th id=\"T_d142a1ac_3543_11ec_a31f_0242ac1c0002level0_row5\" class=\"row_heading level0 row5\" >50%</th>\n",
              "                        <td id=\"T_d142a1ac_3543_11ec_a31f_0242ac1c0002row5_col0\" class=\"data row5 col0\" >83,626,125.0</td>\n",
              "                        <td id=\"T_d142a1ac_3543_11ec_a31f_0242ac1c0002row5_col1\" class=\"data row5 col1\" >2,853,886.5</td>\n",
              "                        <td id=\"T_d142a1ac_3543_11ec_a31f_0242ac1c0002row5_col2\" class=\"data row5 col2\" >83,575,000.0</td>\n",
              "            </tr>\n",
              "            <tr>\n",
              "                        <th id=\"T_d142a1ac_3543_11ec_a31f_0242ac1c0002level0_row6\" class=\"row_heading level0 row6\" >75%</th>\n",
              "                        <td id=\"T_d142a1ac_3543_11ec_a31f_0242ac1c0002row6_col0\" class=\"data row6 col0\" >85,500,750.0</td>\n",
              "                        <td id=\"T_d142a1ac_3543_11ec_a31f_0242ac1c0002row6_col1\" class=\"data row6 col1\" >2,930,596.75</td>\n",
              "                        <td id=\"T_d142a1ac_3543_11ec_a31f_0242ac1c0002row6_col2\" class=\"data row6 col2\" >85,500,000.0</td>\n",
              "            </tr>\n",
              "            <tr>\n",
              "                        <th id=\"T_d142a1ac_3543_11ec_a31f_0242ac1c0002level0_row7\" class=\"row_heading level0 row7\" >max</th>\n",
              "                        <td id=\"T_d142a1ac_3543_11ec_a31f_0242ac1c0002row7_col0\" class=\"data row7 col0\" >93,825,000.0</td>\n",
              "                        <td id=\"T_d142a1ac_3543_11ec_a31f_0242ac1c0002row7_col1\" class=\"data row7 col1\" >3,225,902.0</td>\n",
              "                        <td id=\"T_d142a1ac_3543_11ec_a31f_0242ac1c0002row7_col2\" class=\"data row7 col2\" >94,175,000.0</td>\n",
              "            </tr>\n",
              "    </tbody></table>"
            ],
            "text/plain": [
              "<pandas.io.formats.style.Styler at 0x7f38201839d0>"
            ]
          },
          "metadata": {},
          "execution_count": 20
        }
      ]
    },
    {
      "cell_type": "markdown",
      "metadata": {
        "id": "DmH6yrDxaNUS"
      },
      "source": [
        "Графически это выглядит так:"
      ]
    },
    {
      "cell_type": "code",
      "metadata": {
        "id": "X4I18wVkaNUS",
        "outputId": "0c1481bc-4881-4229-a83a-d862eb814cbd",
        "colab": {
          "base_uri": "https://localhost:8080/",
          "height": 294
        }
      },
      "source": [
        "results_df['Commission_Amount'].plot(kind='hist', \n",
        "                                     title=\"Total Commission Amount\");"
      ],
      "execution_count": 21,
      "outputs": [
        {
          "output_type": "display_data",
          "data": {
            "image/png": "[encoded data removed]",
            "text/plain": [
              "<Figure size 432x288 with 1 Axes>"
            ]
          },
          "metadata": {
            "needs_background": "light"
          }
        }
      ]
    },
    {
      "cell_type": "markdown",
      "metadata": {
        "id": "AiesN6hraNUS"
      },
      "source": [
        "Итак, о чем говорит эта диаграмма и результат описания? \n",
        "\n",
        "Видим, что средние комиссионные расходы составляют `2,85 миллиона долларов`, а стандартное отклонение составляет `103 тысячи долларов`. Мы также видим, что размер комиссионных может составлять от `2,5` до `3,2 млн долларов`.\n",
        "\n",
        "Исходя из этих результатов, насколько вы уверены, что расходы на комиссионные будут меньше `3 миллионов долларов`? Или, если кто-то скажет: \"Давайте выделим только `2,7 миллиона долларов`\", почувствуете ли вы, что ваши расходы будут меньше этой суммы? Возможно нет.\n",
        "\n",
        "В этом заключается одно из преимуществ моделирования Монте-Карло. Вы лучше понимаете распределение вероятных результатов и можете использовать эти знания, а также свою деловую хватку, чтобы сделать обоснованную оценку.\n",
        "\n",
        "Другая ценность этой модели состоит в том, что вы можете моделировать множество различных предположений и смотреть, что происходит. Вот несколько простых изменений, которые вы можете внести, чтобы увидеть, как меняются результаты:\n",
        "\n",
        "- увеличить максимальную комиссию до 5%;\n",
        "- уменьшите количество продавцов;\n",
        "- измените ожидаемое стандартное отклонение на большее значение;\n",
        "- изменить распределение целей.\n",
        "\n",
        "Теперь, когда модель создана, внести эти изменения так же просто, как настроить несколько переменных и повторно запустить код. \n",
        "\n",
        "Еще одно наблюдение, касающееся моделирования методом Монте-Карло, заключается в том, что его относительно легко объяснить конечному пользователю. Человек, получающий эту оценку, может не иметь глубоких математических знаний, но способен интуитивно понять, что делает это моделирование и как оценить вероятность диапазона возможных результатов.\n",
        "\n",
        "Наконец, я думаю, что показанный здесь подход легче понять и воспроизвести, чем некоторые решения *Excel*, с которыми вы можете столкнуться. \n",
        "\n",
        "## Заключение\n",
        "\n",
        "*Моделирование методом Монте-Карло* - полезный инструмент для прогнозирования будущих результатов путем многократного вычисления формулы с различными случайными входными данными. \n",
        "\n",
        "Дополнительным преимуществом *Python* является то, что аналитики могут запускать множество сценариев, изменяя исходные данные, и переходить к гораздо более сложным моделям в будущем, если возникнут потребности. Наконец, результатами можно поделиться с нетехническими пользователями и облегчить обсуждение неопределенности конечных результатов."
      ]
    }
  ]
}